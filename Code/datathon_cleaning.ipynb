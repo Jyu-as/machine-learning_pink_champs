{
 "cells": [
  {
   "cell_type": "markdown",
   "metadata": {},
   "source": [
    "# Libraries"
   ]
  },
  {
   "cell_type": "code",
   "execution_count": 53,
   "metadata": {},
   "outputs": [],
   "source": [
    "import pandas as pd\n",
    "import numpy as np\n",
    "import seaborn as sns\n",
    "from sklearn.preprocessing import FunctionTransformer"
   ]
  },
  {
   "cell_type": "markdown",
   "metadata": {},
   "source": [
    "# Dataset"
   ]
  },
  {
   "cell_type": "code",
   "execution_count": 57,
   "metadata": {},
   "outputs": [],
   "source": [
    "df = pd.read_csv('../Data Received/cookies.csv')"
   ]
  },
  {
   "cell_type": "code",
   "execution_count": 58,
   "metadata": {},
   "outputs": [
    {
     "data": {
      "text/plain": [
       "16"
      ]
     },
     "execution_count": 58,
     "metadata": {},
     "output_type": "execute_result"
    }
   ],
   "source": [
    "len(df.columns)"
   ]
  },
  {
   "cell_type": "code",
   "execution_count": 62,
   "metadata": {},
   "outputs": [
    {
     "data": {
      "text/plain": [
       "12"
      ]
     },
     "execution_count": 62,
     "metadata": {},
     "output_type": "execute_result"
    }
   ],
   "source": [
    "df.duplicated().sum()"
   ]
  },
  {
   "cell_type": "code",
   "execution_count": 60,
   "metadata": {},
   "outputs": [
    {
     "data": {
      "text/plain": [
       "sugar to flour ratio     0\n",
       "sugar index              5\n",
       "bake temp                0\n",
       "chill time               0\n",
       "calories                 0\n",
       "density                  0\n",
       "pH                       0\n",
       "grams baking soda        0\n",
       "bake time               10\n",
       "quality                  0\n",
       "butter type              0\n",
       "weight                   0\n",
       "diameter                 0\n",
       "mixins                   2\n",
       "crunch factor            0\n",
       "aesthetic appeal         0\n",
       "dtype: int64"
      ]
     },
     "execution_count": 60,
     "metadata": {},
     "output_type": "execute_result"
    }
   ],
   "source": [
    "df.isna().sum()"
   ]
  },
  {
   "cell_type": "markdown",
   "metadata": {},
   "source": [
    "# 1. Create functions for cleaning Pipeline"
   ]
  },
  {
   "cell_type": "markdown",
   "metadata": {},
   "source": [
    "## 1.1 Drop NaNs"
   ]
  },
  {
   "cell_type": "code",
   "execution_count": 3,
   "metadata": {},
   "outputs": [],
   "source": [
    "# Drop rows with NaNs\n",
    "# Since there are very few we drop all the rows\n",
    "def drop_nans(df):\n",
    "    X = df.dropna()\n",
    "    return X\n",
    "\n",
    "# Convert function to transformer to include in the pipeline\n",
    "NaNDropper = FunctionTransformer(drop_nans, validate=False)\n"
   ]
  },
  {
   "cell_type": "markdown",
   "metadata": {},
   "source": [
    "## 1.2 Outlier check"
   ]
  },
  {
   "cell_type": "code",
   "execution_count": 5,
   "metadata": {},
   "outputs": [],
   "source": [
    "def drop_outliers(df):\n",
    "    # Drop cookies with Cal < 6 \n",
    "    df = df.drop(df[df['calories'] <= 6].index)\n",
    "\n",
    "    # Drop degrees because data makes no sense\n",
    "    df = df.drop('bake temp', axis = 1)\n",
    "\n",
    "    # Drop density above 1.1\n",
    "    df = df.drop(df[df['density'] > 1.1].index)\n",
    "\n",
    "    # Drop pH above 15\n",
    "    df = df.drop(df[df['pH'] > 10].index)\n",
    "\n",
    "    # Drop weight below 0 \n",
    "    X = df.drop(df[df['weight'] < 0].index)\n",
    "    \n",
    "    # Drop aesthetic appeal\n",
    "    \n",
    "    X = df.drop('aesthetic appeal', axis = 1)\n",
    "    \n",
    "    return X\n",
    "\n",
    "# Convert function to transformer to include in the pipeline\n",
    "OutlierDropper = FunctionTransformer(drop_outliers, validate=False)\n"
   ]
  },
  {
   "cell_type": "markdown",
   "metadata": {},
   "source": [
    "## 1.3 Encode categ columns"
   ]
  },
  {
   "cell_type": "code",
   "execution_count": 6,
   "metadata": {},
   "outputs": [],
   "source": [
    "def categ_encoder(df):\n",
    "    # Encode mixins column\n",
    "    mixin_list = [\"nuts\",\"chocolate\",\"raisins\",\"oats\",\"peanut butter\"]\n",
    "    for i in mixin_list:\n",
    "        df[i]=\"\"\n",
    "\n",
    "    for i in mixin_list:\n",
    "        df[i]=df[\"mixins\"].str.contains(i).astype(int)\n",
    "\n",
    "    X = df.drop(['mixins'], axis = 1)\n",
    "    \n",
    "    return X\n",
    "\n",
    "# Convert function to transformer to include in the pipeline\n",
    "CategEncoder = FunctionTransformer(categ_encoder, validate=False)"
   ]
  },
  {
   "cell_type": "code",
   "execution_count": 7,
   "metadata": {},
   "outputs": [],
   "source": [
    "def onehot_encoder(df):\n",
    "    # One hote encode \n",
    "    df['butter type'] =pd.get_dummies(df['butter type'],drop_first=True)\n",
    "    X = df\n",
    "    \n",
    "    return X\n",
    "    \n",
    "# Convert function to transformer to include in the pipeline\n",
    "OneHotEncoder = FunctionTransformer(onehot_encoder, validate=False)"
   ]
  },
  {
   "cell_type": "markdown",
   "metadata": {},
   "source": [
    "# 2. Create the Pipeline"
   ]
  },
  {
   "cell_type": "code",
   "execution_count": 8,
   "metadata": {},
   "outputs": [],
   "source": [
    "from sklearn.pipeline import Pipeline\n",
    "\n",
    "# Create Pipeline\n",
    "\n",
    "pipeline_one = Pipeline([\n",
    "    ('nan_dropper', NaNDropper),\n",
    "    ('outlier_dropper', OutlierDropper),\n",
    "    ('categ_encoder', CategEncoder),\n",
    "    ('one_hot_encoder', OneHotEncoder)\n",
    "])"
   ]
  },
  {
   "cell_type": "code",
   "execution_count": 9,
   "metadata": {},
   "outputs": [],
   "source": [
    "df = pipeline_one.fit_transform(df)"
   ]
  },
  {
   "cell_type": "code",
   "execution_count": 10,
   "metadata": {},
   "outputs": [
    {
     "data": {
      "text/html": [
       "<div>\n",
       "<style scoped>\n",
       "    .dataframe tbody tr th:only-of-type {\n",
       "        vertical-align: middle;\n",
       "    }\n",
       "\n",
       "    .dataframe tbody tr th {\n",
       "        vertical-align: top;\n",
       "    }\n",
       "\n",
       "    .dataframe thead th {\n",
       "        text-align: right;\n",
       "    }\n",
       "</style>\n",
       "<table border=\"1\" class=\"dataframe\">\n",
       "  <thead>\n",
       "    <tr style=\"text-align: right;\">\n",
       "      <th></th>\n",
       "      <th>sugar to flour ratio</th>\n",
       "      <th>sugar index</th>\n",
       "      <th>chill time</th>\n",
       "      <th>calories</th>\n",
       "      <th>density</th>\n",
       "      <th>pH</th>\n",
       "      <th>grams baking soda</th>\n",
       "      <th>bake time</th>\n",
       "      <th>quality</th>\n",
       "      <th>butter type</th>\n",
       "      <th>weight</th>\n",
       "      <th>diameter</th>\n",
       "      <th>crunch factor</th>\n",
       "      <th>nuts</th>\n",
       "      <th>chocolate</th>\n",
       "      <th>raisins</th>\n",
       "      <th>oats</th>\n",
       "      <th>peanut butter</th>\n",
       "    </tr>\n",
       "  </thead>\n",
       "  <tbody>\n",
       "    <tr>\n",
       "      <th>0</th>\n",
       "      <td>0.25</td>\n",
       "      <td>9.5</td>\n",
       "      <td>15.0</td>\n",
       "      <td>136.0</td>\n",
       "      <td>0.99367</td>\n",
       "      <td>8.10</td>\n",
       "      <td>0.44</td>\n",
       "      <td>12.1</td>\n",
       "      <td>8</td>\n",
       "      <td>1</td>\n",
       "      <td>15.2</td>\n",
       "      <td>7</td>\n",
       "      <td>1.30</td>\n",
       "      <td>0</td>\n",
       "      <td>0</td>\n",
       "      <td>1</td>\n",
       "      <td>0</td>\n",
       "      <td>0</td>\n",
       "    </tr>\n",
       "    <tr>\n",
       "      <th>1</th>\n",
       "      <td>0.23</td>\n",
       "      <td>3.3</td>\n",
       "      <td>34.0</td>\n",
       "      <td>113.0</td>\n",
       "      <td>0.99429</td>\n",
       "      <td>8.16</td>\n",
       "      <td>0.48</td>\n",
       "      <td>8.4</td>\n",
       "      <td>7</td>\n",
       "      <td>1</td>\n",
       "      <td>12.4</td>\n",
       "      <td>7</td>\n",
       "      <td>1.71</td>\n",
       "      <td>0</td>\n",
       "      <td>0</td>\n",
       "      <td>1</td>\n",
       "      <td>0</td>\n",
       "      <td>0</td>\n",
       "    </tr>\n",
       "    <tr>\n",
       "      <th>2</th>\n",
       "      <td>0.18</td>\n",
       "      <td>1.9</td>\n",
       "      <td>33.0</td>\n",
       "      <td>106.0</td>\n",
       "      <td>0.98746</td>\n",
       "      <td>8.21</td>\n",
       "      <td>0.83</td>\n",
       "      <td>14.0</td>\n",
       "      <td>9</td>\n",
       "      <td>1</td>\n",
       "      <td>9.4</td>\n",
       "      <td>7</td>\n",
       "      <td>1.78</td>\n",
       "      <td>1</td>\n",
       "      <td>1</td>\n",
       "      <td>0</td>\n",
       "      <td>0</td>\n",
       "      <td>0</td>\n",
       "    </tr>\n",
       "    <tr>\n",
       "      <th>3</th>\n",
       "      <td>0.18</td>\n",
       "      <td>10.5</td>\n",
       "      <td>41.0</td>\n",
       "      <td>124.0</td>\n",
       "      <td>0.99630</td>\n",
       "      <td>8.14</td>\n",
       "      <td>0.35</td>\n",
       "      <td>10.5</td>\n",
       "      <td>7</td>\n",
       "      <td>1</td>\n",
       "      <td>12.2</td>\n",
       "      <td>7</td>\n",
       "      <td>1.59</td>\n",
       "      <td>0</td>\n",
       "      <td>1</td>\n",
       "      <td>0</td>\n",
       "      <td>0</td>\n",
       "      <td>0</td>\n",
       "    </tr>\n",
       "    <tr>\n",
       "      <th>4</th>\n",
       "      <td>0.24</td>\n",
       "      <td>2.4</td>\n",
       "      <td>6.0</td>\n",
       "      <td>33.0</td>\n",
       "      <td>0.99740</td>\n",
       "      <td>8.09</td>\n",
       "      <td>0.57</td>\n",
       "      <td>9.4</td>\n",
       "      <td>5</td>\n",
       "      <td>0</td>\n",
       "      <td>19.8</td>\n",
       "      <td>7</td>\n",
       "      <td>1.30</td>\n",
       "      <td>1</td>\n",
       "      <td>1</td>\n",
       "      <td>0</td>\n",
       "      <td>1</td>\n",
       "      <td>0</td>\n",
       "    </tr>\n",
       "    <tr>\n",
       "      <th>...</th>\n",
       "      <td>...</td>\n",
       "      <td>...</td>\n",
       "      <td>...</td>\n",
       "      <td>...</td>\n",
       "      <td>...</td>\n",
       "      <td>...</td>\n",
       "      <td>...</td>\n",
       "      <td>...</td>\n",
       "      <td>...</td>\n",
       "      <td>...</td>\n",
       "      <td>...</td>\n",
       "      <td>...</td>\n",
       "      <td>...</td>\n",
       "      <td>...</td>\n",
       "      <td>...</td>\n",
       "      <td>...</td>\n",
       "      <td>...</td>\n",
       "      <td>...</td>\n",
       "    </tr>\n",
       "    <tr>\n",
       "      <th>5193</th>\n",
       "      <td>0.66</td>\n",
       "      <td>2.0</td>\n",
       "      <td>15.0</td>\n",
       "      <td>88.0</td>\n",
       "      <td>0.99357</td>\n",
       "      <td>8.66</td>\n",
       "      <td>0.60</td>\n",
       "      <td>11.5</td>\n",
       "      <td>6</td>\n",
       "      <td>0</td>\n",
       "      <td>11.6</td>\n",
       "      <td>7</td>\n",
       "      <td>1.36</td>\n",
       "      <td>0</td>\n",
       "      <td>0</td>\n",
       "      <td>0</td>\n",
       "      <td>0</td>\n",
       "      <td>1</td>\n",
       "    </tr>\n",
       "    <tr>\n",
       "      <th>5194</th>\n",
       "      <td>0.16</td>\n",
       "      <td>1.5</td>\n",
       "      <td>10.0</td>\n",
       "      <td>97.0</td>\n",
       "      <td>0.99170</td>\n",
       "      <td>8.48</td>\n",
       "      <td>0.44</td>\n",
       "      <td>10.7</td>\n",
       "      <td>8</td>\n",
       "      <td>1</td>\n",
       "      <td>10.0</td>\n",
       "      <td>7</td>\n",
       "      <td>1.80</td>\n",
       "      <td>0</td>\n",
       "      <td>0</td>\n",
       "      <td>1</td>\n",
       "      <td>0</td>\n",
       "      <td>0</td>\n",
       "    </tr>\n",
       "    <tr>\n",
       "      <th>5195</th>\n",
       "      <td>0.25</td>\n",
       "      <td>14.3</td>\n",
       "      <td>79.0</td>\n",
       "      <td>149.0</td>\n",
       "      <td>0.99750</td>\n",
       "      <td>8.12</td>\n",
       "      <td>0.37</td>\n",
       "      <td>9.7</td>\n",
       "      <td>7</td>\n",
       "      <td>1</td>\n",
       "      <td>13.4</td>\n",
       "      <td>7</td>\n",
       "      <td>1.07</td>\n",
       "      <td>0</td>\n",
       "      <td>1</td>\n",
       "      <td>0</td>\n",
       "      <td>1</td>\n",
       "      <td>0</td>\n",
       "    </tr>\n",
       "    <tr>\n",
       "      <th>5196</th>\n",
       "      <td>0.33</td>\n",
       "      <td>1.4</td>\n",
       "      <td>35.0</td>\n",
       "      <td>136.0</td>\n",
       "      <td>0.99380</td>\n",
       "      <td>8.63</td>\n",
       "      <td>0.78</td>\n",
       "      <td>10.3</td>\n",
       "      <td>8</td>\n",
       "      <td>1</td>\n",
       "      <td>13.8</td>\n",
       "      <td>7</td>\n",
       "      <td>1.77</td>\n",
       "      <td>0</td>\n",
       "      <td>1</td>\n",
       "      <td>0</td>\n",
       "      <td>0</td>\n",
       "      <td>0</td>\n",
       "    </tr>\n",
       "    <tr>\n",
       "      <th>5197</th>\n",
       "      <td>0.44</td>\n",
       "      <td>1.8</td>\n",
       "      <td>28.0</td>\n",
       "      <td>68.0</td>\n",
       "      <td>0.99501</td>\n",
       "      <td>8.36</td>\n",
       "      <td>0.66</td>\n",
       "      <td>11.2</td>\n",
       "      <td>5</td>\n",
       "      <td>0</td>\n",
       "      <td>16.0</td>\n",
       "      <td>7</td>\n",
       "      <td>1.61</td>\n",
       "      <td>0</td>\n",
       "      <td>1</td>\n",
       "      <td>0</td>\n",
       "      <td>0</td>\n",
       "      <td>0</td>\n",
       "    </tr>\n",
       "  </tbody>\n",
       "</table>\n",
       "<p>5169 rows × 18 columns</p>\n",
       "</div>"
      ],
      "text/plain": [
       "      sugar to flour ratio  sugar index  chill time  calories  density    pH  \\\n",
       "0                     0.25          9.5        15.0     136.0  0.99367  8.10   \n",
       "1                     0.23          3.3        34.0     113.0  0.99429  8.16   \n",
       "2                     0.18          1.9        33.0     106.0  0.98746  8.21   \n",
       "3                     0.18         10.5        41.0     124.0  0.99630  8.14   \n",
       "4                     0.24          2.4         6.0      33.0  0.99740  8.09   \n",
       "...                    ...          ...         ...       ...      ...   ...   \n",
       "5193                  0.66          2.0        15.0      88.0  0.99357  8.66   \n",
       "5194                  0.16          1.5        10.0      97.0  0.99170  8.48   \n",
       "5195                  0.25         14.3        79.0     149.0  0.99750  8.12   \n",
       "5196                  0.33          1.4        35.0     136.0  0.99380  8.63   \n",
       "5197                  0.44          1.8        28.0      68.0  0.99501  8.36   \n",
       "\n",
       "      grams baking soda  bake time  quality  butter type  weight  diameter  \\\n",
       "0                  0.44       12.1        8            1    15.2         7   \n",
       "1                  0.48        8.4        7            1    12.4         7   \n",
       "2                  0.83       14.0        9            1     9.4         7   \n",
       "3                  0.35       10.5        7            1    12.2         7   \n",
       "4                  0.57        9.4        5            0    19.8         7   \n",
       "...                 ...        ...      ...          ...     ...       ...   \n",
       "5193               0.60       11.5        6            0    11.6         7   \n",
       "5194               0.44       10.7        8            1    10.0         7   \n",
       "5195               0.37        9.7        7            1    13.4         7   \n",
       "5196               0.78       10.3        8            1    13.8         7   \n",
       "5197               0.66       11.2        5            0    16.0         7   \n",
       "\n",
       "      crunch factor  nuts  chocolate  raisins  oats  peanut butter  \n",
       "0              1.30     0          0        1     0              0  \n",
       "1              1.71     0          0        1     0              0  \n",
       "2              1.78     1          1        0     0              0  \n",
       "3              1.59     0          1        0     0              0  \n",
       "4              1.30     1          1        0     1              0  \n",
       "...             ...   ...        ...      ...   ...            ...  \n",
       "5193           1.36     0          0        0     0              1  \n",
       "5194           1.80     0          0        1     0              0  \n",
       "5195           1.07     0          1        0     1              0  \n",
       "5196           1.77     0          1        0     0              0  \n",
       "5197           1.61     0          1        0     0              0  \n",
       "\n",
       "[5169 rows x 18 columns]"
      ]
     },
     "execution_count": 10,
     "metadata": {},
     "output_type": "execute_result"
    }
   ],
   "source": [
    "df"
   ]
  },
  {
   "cell_type": "markdown",
   "metadata": {},
   "source": [
    "### Training a Model"
   ]
  },
  {
   "cell_type": "code",
   "execution_count": 11,
   "metadata": {},
   "outputs": [],
   "source": [
    "from sklearn.ensemble import RandomForestRegressor\n",
    "from sklearn.model_selection import train_test_split\n",
    "from sklearn.metrics import mean_squared_error as MSE\n",
    "from sklearn.metrics import r2_score"
   ]
  },
  {
   "cell_type": "code",
   "execution_count": 12,
   "metadata": {},
   "outputs": [],
   "source": [
    "X = df.drop('quality', axis=1)\n",
    "y = df['quality']"
   ]
  },
  {
   "cell_type": "code",
   "execution_count": 13,
   "metadata": {},
   "outputs": [],
   "source": [
    "X_train, X_test, y_train, y_test = train_test_split(X, y, test_size=0.2, random_state=123)"
   ]
  },
  {
   "cell_type": "code",
   "execution_count": 14,
   "metadata": {},
   "outputs": [],
   "source": [
    "#####"
   ]
  },
  {
   "cell_type": "code",
   "execution_count": 15,
   "metadata": {},
   "outputs": [],
   "source": [
    "from sklearn.model_selection import GridSearchCV\n",
    "\n",
    "# initialize model (no parameters)\n",
    "rfc = RandomForestRegressor()\n",
    "\n",
    "# define grid search\n",
    "rfc_search = GridSearchCV(estimator = rfc,\n",
    "                          param_grid = {\"n_estimators\":[1000]},\n",
    "                            scoring=\"r2\",\n",
    "                            cv=10)\n",
    "\n",
    "# all possible metrics here:\n",
    "# from sklearn.metrics import SCORERS\n",
    "# sorted(SCORERS.keys())"
   ]
  },
  {
   "cell_type": "code",
   "execution_count": 16,
   "metadata": {},
   "outputs": [
    {
     "data": {
      "text/plain": [
       "GridSearchCV(cv=10, error_score=nan,\n",
       "             estimator=RandomForestRegressor(bootstrap=True, ccp_alpha=0.0,\n",
       "                                             criterion='mse', max_depth=None,\n",
       "                                             max_features='auto',\n",
       "                                             max_leaf_nodes=None,\n",
       "                                             max_samples=None,\n",
       "                                             min_impurity_decrease=0.0,\n",
       "                                             min_impurity_split=None,\n",
       "                                             min_samples_leaf=1,\n",
       "                                             min_samples_split=2,\n",
       "                                             min_weight_fraction_leaf=0.0,\n",
       "                                             n_estimators=100, n_jobs=None,\n",
       "                                             oob_score=False, random_state=None,\n",
       "                                             verbose=0, warm_start=False),\n",
       "             iid='deprecated', n_jobs=None, param_grid={'n_estimators': [1000]},\n",
       "             pre_dispatch='2*n_jobs', refit=True, return_train_score=False,\n",
       "             scoring='r2', verbose=0)"
      ]
     },
     "execution_count": 16,
     "metadata": {},
     "output_type": "execute_result"
    }
   ],
   "source": [
    "rfc_search.fit(X_train,y_train)"
   ]
  },
  {
   "cell_type": "code",
   "execution_count": 17,
   "metadata": {},
   "outputs": [],
   "source": [
    "rfc_pred_01 = rfc_search.predict(X_test)"
   ]
  },
  {
   "cell_type": "code",
   "execution_count": 18,
   "metadata": {},
   "outputs": [
    {
     "name": "stdout",
     "output_type": "stream",
     "text": [
      "0.748230740278615\n"
     ]
    }
   ],
   "source": [
    "r2 = r2_score(y_test,rfc_pred_01)\n",
    "print(r2)"
   ]
  },
  {
   "cell_type": "code",
   "execution_count": 19,
   "metadata": {},
   "outputs": [],
   "source": [
    "mse = MSE(y_test, rfc_pred_01)"
   ]
  },
  {
   "cell_type": "code",
   "execution_count": 20,
   "metadata": {},
   "outputs": [
    {
     "name": "stdout",
     "output_type": "stream",
     "text": [
      "0.649554930202286\n"
     ]
    }
   ],
   "source": [
    "rmse = mse**(0.5)\n",
    "print(rmse)"
   ]
  },
  {
   "cell_type": "code",
   "execution_count": 54,
   "metadata": {},
   "outputs": [],
   "source": [
    "####"
   ]
  },
  {
   "cell_type": "code",
   "execution_count": 137,
   "metadata": {},
   "outputs": [],
   "source": [
    "rfc = RandomForestRegressor(n_estimators=2000)"
   ]
  },
  {
   "cell_type": "code",
   "execution_count": 138,
   "metadata": {},
   "outputs": [
    {
     "data": {
      "text/plain": [
       "RandomForestRegressor(bootstrap=True, ccp_alpha=0.0, criterion='mse',\n",
       "                      max_depth=None, max_features='auto', max_leaf_nodes=None,\n",
       "                      max_samples=None, min_impurity_decrease=0.0,\n",
       "                      min_impurity_split=None, min_samples_leaf=1,\n",
       "                      min_samples_split=2, min_weight_fraction_leaf=0.0,\n",
       "                      n_estimators=2000, n_jobs=None, oob_score=False,\n",
       "                      random_state=None, verbose=0, warm_start=False)"
      ]
     },
     "execution_count": 138,
     "metadata": {},
     "output_type": "execute_result"
    }
   ],
   "source": [
    "rfc.fit(X_train,y_train)"
   ]
  },
  {
   "cell_type": "code",
   "execution_count": 139,
   "metadata": {},
   "outputs": [],
   "source": [
    "rfc_pred = rfc.predict(X_test)"
   ]
  },
  {
   "cell_type": "code",
   "execution_count": 140,
   "metadata": {},
   "outputs": [
    {
     "name": "stdout",
     "output_type": "stream",
     "text": [
      "0.7637634928827076\n"
     ]
    }
   ],
   "source": [
    "r2 = r2_score(y_test,rfc_pred)\n",
    "print(r2)"
   ]
  },
  {
   "cell_type": "code",
   "execution_count": 141,
   "metadata": {},
   "outputs": [],
   "source": [
    "mse = MSE(y_test, rfc_pred)"
   ]
  },
  {
   "cell_type": "code",
   "execution_count": 142,
   "metadata": {},
   "outputs": [
    {
     "name": "stdout",
     "output_type": "stream",
     "text": [
      "0.65366031713964\n"
     ]
    }
   ],
   "source": [
    "rmse = mse**(0.5)\n",
    "print(rmse)"
   ]
  },
  {
   "cell_type": "code",
   "execution_count": 64,
   "metadata": {},
   "outputs": [
    {
     "data": {
      "text/plain": [
       "GridSearchCV(cv=10, error_score=nan,\n",
       "             estimator=GradientBoostingRegressor(alpha=0.9, ccp_alpha=0.0,\n",
       "                                                 criterion='friedman_mse',\n",
       "                                                 init=None, learning_rate=0.1,\n",
       "                                                 loss='ls', max_depth=3,\n",
       "                                                 max_features=None,\n",
       "                                                 max_leaf_nodes=None,\n",
       "                                                 min_impurity_decrease=0.0,\n",
       "                                                 min_impurity_split=None,\n",
       "                                                 min_samples_leaf=1,\n",
       "                                                 min_samples_split=2,\n",
       "                                                 min_weight_fraction_leaf=0.0,\n",
       "                                                 n_estimators=100,\n",
       "                                                 n_iter_no_change=None,\n",
       "                                                 presort='deprecated',\n",
       "                                                 random_state=123,\n",
       "                                                 subsample=1.0, tol=0.0001,\n",
       "                                                 validation_fraction=0.1,\n",
       "                                                 verbose=0, warm_start=False),\n",
       "             iid='deprecated', n_jobs=None,\n",
       "             param_grid={'learning_rate': [0.01, 0.03],\n",
       "                         'max_depth': [4, 6, 8, 10]},\n",
       "             pre_dispatch='2*n_jobs', refit=True, return_train_score=False,\n",
       "             scoring='r2', verbose=0)"
      ]
     },
     "execution_count": 64,
     "metadata": {},
     "output_type": "execute_result"
    }
   ],
   "source": [
    "from sklearn.ensemble import GradientBoostingRegressor\n",
    "from sklearn.model_selection import GridSearchCV\n",
    "# Instantiate gb\n",
    "gb = GradientBoostingRegressor(random_state=123)\n",
    "param_grid_gb= {'learning_rate': [0.01,0.03],\n",
    "                  'max_depth'    : [4,6,8,10] \n",
    "                 }\n",
    "gb_gs = GridSearchCV(gb, param_grid_gb, cv=10, scoring=\"r2\")\n",
    "gb_gs.fit(X_train, y_train)"
   ]
  },
  {
   "cell_type": "code",
   "execution_count": 75,
   "metadata": {},
   "outputs": [
    {
     "data": {
      "text/plain": [
       "0.7341139691149093"
      ]
     },
     "execution_count": 75,
     "metadata": {},
     "output_type": "execute_result"
    }
   ],
   "source": [
    "gb_gs.best_score_"
   ]
  },
  {
   "cell_type": "code",
   "execution_count": 79,
   "metadata": {},
   "outputs": [],
   "source": [
    "gb_pred = gb_gs.predict(df_val)"
   ]
  },
  {
   "cell_type": "code",
   "execution_count": 81,
   "metadata": {},
   "outputs": [],
   "source": [
    "gb_pred = pd.DataFrame({'results':gb_pred})"
   ]
  },
  {
   "cell_type": "code",
   "execution_count": 82,
   "metadata": {},
   "outputs": [
    {
     "data": {
      "text/html": [
       "<div>\n",
       "<style scoped>\n",
       "    .dataframe tbody tr th:only-of-type {\n",
       "        vertical-align: middle;\n",
       "    }\n",
       "\n",
       "    .dataframe tbody tr th {\n",
       "        vertical-align: top;\n",
       "    }\n",
       "\n",
       "    .dataframe thead th {\n",
       "        text-align: right;\n",
       "    }\n",
       "</style>\n",
       "<table border=\"1\" class=\"dataframe\">\n",
       "  <thead>\n",
       "    <tr style=\"text-align: right;\">\n",
       "      <th></th>\n",
       "      <th>results</th>\n",
       "    </tr>\n",
       "  </thead>\n",
       "  <tbody>\n",
       "    <tr>\n",
       "      <th>0</th>\n",
       "      <td>7.313393</td>\n",
       "    </tr>\n",
       "    <tr>\n",
       "      <th>1</th>\n",
       "      <td>8.031364</td>\n",
       "    </tr>\n",
       "    <tr>\n",
       "      <th>2</th>\n",
       "      <td>7.615203</td>\n",
       "    </tr>\n",
       "    <tr>\n",
       "      <th>3</th>\n",
       "      <td>8.257084</td>\n",
       "    </tr>\n",
       "    <tr>\n",
       "      <th>4</th>\n",
       "      <td>7.765867</td>\n",
       "    </tr>\n",
       "    <tr>\n",
       "      <th>...</th>\n",
       "      <td>...</td>\n",
       "    </tr>\n",
       "    <tr>\n",
       "      <th>774</th>\n",
       "      <td>5.340720</td>\n",
       "    </tr>\n",
       "    <tr>\n",
       "      <th>775</th>\n",
       "      <td>5.144067</td>\n",
       "    </tr>\n",
       "    <tr>\n",
       "      <th>776</th>\n",
       "      <td>5.562395</td>\n",
       "    </tr>\n",
       "    <tr>\n",
       "      <th>777</th>\n",
       "      <td>4.806857</td>\n",
       "    </tr>\n",
       "    <tr>\n",
       "      <th>778</th>\n",
       "      <td>5.497803</td>\n",
       "    </tr>\n",
       "  </tbody>\n",
       "</table>\n",
       "<p>779 rows × 1 columns</p>\n",
       "</div>"
      ],
      "text/plain": [
       "      results\n",
       "0    7.313393\n",
       "1    8.031364\n",
       "2    7.615203\n",
       "3    8.257084\n",
       "4    7.765867\n",
       "..        ...\n",
       "774  5.340720\n",
       "775  5.144067\n",
       "776  5.562395\n",
       "777  4.806857\n",
       "778  5.497803\n",
       "\n",
       "[779 rows x 1 columns]"
      ]
     },
     "execution_count": 82,
     "metadata": {},
     "output_type": "execute_result"
    }
   ],
   "source": [
    "gb_pred"
   ]
  },
  {
   "cell_type": "code",
   "execution_count": 83,
   "metadata": {},
   "outputs": [],
   "source": [
    "gb_pred.to_csv('../Data/GradientBoostingResults.csv')"
   ]
  },
  {
   "cell_type": "code",
   "execution_count": null,
   "metadata": {},
   "outputs": [],
   "source": []
  },
  {
   "cell_type": "code",
   "execution_count": null,
   "metadata": {},
   "outputs": [],
   "source": []
  },
  {
   "cell_type": "code",
   "execution_count": null,
   "metadata": {},
   "outputs": [],
   "source": []
  },
  {
   "cell_type": "code",
   "execution_count": null,
   "metadata": {},
   "outputs": [],
   "source": []
  },
  {
   "cell_type": "markdown",
   "metadata": {},
   "source": [
    "### Validation Dataset Imported"
   ]
  },
  {
   "cell_type": "code",
   "execution_count": 34,
   "metadata": {},
   "outputs": [],
   "source": [
    "validation = pd.read_csv('../Data/cookies_validate.csv')"
   ]
  },
  {
   "cell_type": "code",
   "execution_count": 35,
   "metadata": {},
   "outputs": [
    {
     "data": {
      "text/html": [
       "<div>\n",
       "<style scoped>\n",
       "    .dataframe tbody tr th:only-of-type {\n",
       "        vertical-align: middle;\n",
       "    }\n",
       "\n",
       "    .dataframe tbody tr th {\n",
       "        vertical-align: top;\n",
       "    }\n",
       "\n",
       "    .dataframe thead th {\n",
       "        text-align: right;\n",
       "    }\n",
       "</style>\n",
       "<table border=\"1\" class=\"dataframe\">\n",
       "  <thead>\n",
       "    <tr style=\"text-align: right;\">\n",
       "      <th></th>\n",
       "      <th>id</th>\n",
       "      <th>sugar to flour ratio</th>\n",
       "      <th>sugar index</th>\n",
       "      <th>bake temp</th>\n",
       "      <th>chill time</th>\n",
       "      <th>calories</th>\n",
       "      <th>density</th>\n",
       "      <th>pH</th>\n",
       "      <th>grams baking soda</th>\n",
       "      <th>bake time</th>\n",
       "      <th>quality</th>\n",
       "      <th>butter type</th>\n",
       "      <th>weight</th>\n",
       "      <th>diameter</th>\n",
       "      <th>mixins</th>\n",
       "      <th>crunch factor</th>\n",
       "      <th>aesthetic appeal</th>\n",
       "    </tr>\n",
       "  </thead>\n",
       "  <tbody>\n",
       "    <tr>\n",
       "      <th>0</th>\n",
       "      <td>14</td>\n",
       "      <td>0.62</td>\n",
       "      <td>19.25</td>\n",
       "      <td>400.0</td>\n",
       "      <td>41.0</td>\n",
       "      <td>172.0</td>\n",
       "      <td>1.0002</td>\n",
       "      <td>7.98</td>\n",
       "      <td>0.67</td>\n",
       "      <td>9.7</td>\n",
       "      <td>0</td>\n",
       "      <td>melted</td>\n",
       "      <td>16.6</td>\n",
       "      <td>7</td>\n",
       "      <td>nuts, chocolate</td>\n",
       "      <td>1.85</td>\n",
       "      <td>3</td>\n",
       "    </tr>\n",
       "  </tbody>\n",
       "</table>\n",
       "</div>"
      ],
      "text/plain": [
       "   id  sugar to flour ratio  sugar index  bake temp  chill time  calories  \\\n",
       "0  14                  0.62        19.25      400.0        41.0     172.0   \n",
       "\n",
       "   density    pH  grams baking soda  bake time  quality butter type  weight  \\\n",
       "0   1.0002  7.98               0.67        9.7        0      melted    16.6   \n",
       "\n",
       "   diameter           mixins  crunch factor  aesthetic appeal  \n",
       "0         7  nuts, chocolate           1.85                 3  "
      ]
     },
     "execution_count": 35,
     "metadata": {},
     "output_type": "execute_result"
    }
   ],
   "source": [
    "validation.head(1)"
   ]
  },
  {
   "cell_type": "markdown",
   "metadata": {},
   "source": [
    "#### Applying Pipeline to Validation Dataset"
   ]
  },
  {
   "cell_type": "code",
   "execution_count": 36,
   "metadata": {},
   "outputs": [],
   "source": [
    "df_val = pipeline_one.fit_transform(validation)"
   ]
  },
  {
   "cell_type": "code",
   "execution_count": 37,
   "metadata": {},
   "outputs": [
    {
     "data": {
      "text/html": [
       "<div>\n",
       "<style scoped>\n",
       "    .dataframe tbody tr th:only-of-type {\n",
       "        vertical-align: middle;\n",
       "    }\n",
       "\n",
       "    .dataframe tbody tr th {\n",
       "        vertical-align: top;\n",
       "    }\n",
       "\n",
       "    .dataframe thead th {\n",
       "        text-align: right;\n",
       "    }\n",
       "</style>\n",
       "<table border=\"1\" class=\"dataframe\">\n",
       "  <thead>\n",
       "    <tr style=\"text-align: right;\">\n",
       "      <th></th>\n",
       "      <th>id</th>\n",
       "      <th>sugar to flour ratio</th>\n",
       "      <th>sugar index</th>\n",
       "      <th>chill time</th>\n",
       "      <th>calories</th>\n",
       "      <th>density</th>\n",
       "      <th>pH</th>\n",
       "      <th>grams baking soda</th>\n",
       "      <th>bake time</th>\n",
       "      <th>quality</th>\n",
       "      <th>butter type</th>\n",
       "      <th>weight</th>\n",
       "      <th>diameter</th>\n",
       "      <th>crunch factor</th>\n",
       "      <th>nuts</th>\n",
       "      <th>chocolate</th>\n",
       "      <th>raisins</th>\n",
       "      <th>oats</th>\n",
       "      <th>peanut butter</th>\n",
       "    </tr>\n",
       "  </thead>\n",
       "  <tbody>\n",
       "    <tr>\n",
       "      <th>0</th>\n",
       "      <td>14</td>\n",
       "      <td>0.62</td>\n",
       "      <td>19.25</td>\n",
       "      <td>41.0</td>\n",
       "      <td>172.0</td>\n",
       "      <td>1.00020</td>\n",
       "      <td>7.98</td>\n",
       "      <td>0.67</td>\n",
       "      <td>9.7</td>\n",
       "      <td>0</td>\n",
       "      <td>1</td>\n",
       "      <td>16.6</td>\n",
       "      <td>7</td>\n",
       "      <td>1.85</td>\n",
       "      <td>1</td>\n",
       "      <td>1</td>\n",
       "      <td>0</td>\n",
       "      <td>0</td>\n",
       "      <td>0</td>\n",
       "    </tr>\n",
       "    <tr>\n",
       "      <th>1</th>\n",
       "      <td>26</td>\n",
       "      <td>0.35</td>\n",
       "      <td>1.00</td>\n",
       "      <td>35.0</td>\n",
       "      <td>146.0</td>\n",
       "      <td>0.99300</td>\n",
       "      <td>8.45</td>\n",
       "      <td>0.44</td>\n",
       "      <td>10.0</td>\n",
       "      <td>0</td>\n",
       "      <td>1</td>\n",
       "      <td>13.8</td>\n",
       "      <td>7</td>\n",
       "      <td>1.43</td>\n",
       "      <td>0</td>\n",
       "      <td>1</td>\n",
       "      <td>0</td>\n",
       "      <td>0</td>\n",
       "      <td>0</td>\n",
       "    </tr>\n",
       "    <tr>\n",
       "      <th>2</th>\n",
       "      <td>30</td>\n",
       "      <td>0.39</td>\n",
       "      <td>10.40</td>\n",
       "      <td>20.0</td>\n",
       "      <td>142.0</td>\n",
       "      <td>0.99740</td>\n",
       "      <td>8.20</td>\n",
       "      <td>0.53</td>\n",
       "      <td>10.0</td>\n",
       "      <td>0</td>\n",
       "      <td>1</td>\n",
       "      <td>17.0</td>\n",
       "      <td>7</td>\n",
       "      <td>1.57</td>\n",
       "      <td>0</td>\n",
       "      <td>1</td>\n",
       "      <td>0</td>\n",
       "      <td>0</td>\n",
       "      <td>0</td>\n",
       "    </tr>\n",
       "    <tr>\n",
       "      <th>3</th>\n",
       "      <td>52</td>\n",
       "      <td>0.33</td>\n",
       "      <td>1.10</td>\n",
       "      <td>21.0</td>\n",
       "      <td>82.0</td>\n",
       "      <td>0.99100</td>\n",
       "      <td>8.32</td>\n",
       "      <td>0.46</td>\n",
       "      <td>10.9</td>\n",
       "      <td>0</td>\n",
       "      <td>1</td>\n",
       "      <td>12.4</td>\n",
       "      <td>7</td>\n",
       "      <td>1.44</td>\n",
       "      <td>0</td>\n",
       "      <td>1</td>\n",
       "      <td>0</td>\n",
       "      <td>1</td>\n",
       "      <td>0</td>\n",
       "    </tr>\n",
       "    <tr>\n",
       "      <th>4</th>\n",
       "      <td>100</td>\n",
       "      <td>0.37</td>\n",
       "      <td>13.50</td>\n",
       "      <td>52.0</td>\n",
       "      <td>192.0</td>\n",
       "      <td>0.99750</td>\n",
       "      <td>8.00</td>\n",
       "      <td>0.44</td>\n",
       "      <td>9.1</td>\n",
       "      <td>0</td>\n",
       "      <td>1</td>\n",
       "      <td>14.8</td>\n",
       "      <td>7</td>\n",
       "      <td>1.51</td>\n",
       "      <td>0</td>\n",
       "      <td>1</td>\n",
       "      <td>0</td>\n",
       "      <td>0</td>\n",
       "      <td>0</td>\n",
       "    </tr>\n",
       "    <tr>\n",
       "      <th>...</th>\n",
       "      <td>...</td>\n",
       "      <td>...</td>\n",
       "      <td>...</td>\n",
       "      <td>...</td>\n",
       "      <td>...</td>\n",
       "      <td>...</td>\n",
       "      <td>...</td>\n",
       "      <td>...</td>\n",
       "      <td>...</td>\n",
       "      <td>...</td>\n",
       "      <td>...</td>\n",
       "      <td>...</td>\n",
       "      <td>...</td>\n",
       "      <td>...</td>\n",
       "      <td>...</td>\n",
       "      <td>...</td>\n",
       "      <td>...</td>\n",
       "      <td>...</td>\n",
       "      <td>...</td>\n",
       "    </tr>\n",
       "    <tr>\n",
       "      <th>774</th>\n",
       "      <td>1442</td>\n",
       "      <td>0.02</td>\n",
       "      <td>1.90</td>\n",
       "      <td>18.0</td>\n",
       "      <td>30.0</td>\n",
       "      <td>0.99712</td>\n",
       "      <td>8.40</td>\n",
       "      <td>0.75</td>\n",
       "      <td>9.8</td>\n",
       "      <td>0</td>\n",
       "      <td>0</td>\n",
       "      <td>13.8</td>\n",
       "      <td>7</td>\n",
       "      <td>1.01</td>\n",
       "      <td>1</td>\n",
       "      <td>1</td>\n",
       "      <td>0</td>\n",
       "      <td>1</td>\n",
       "      <td>0</td>\n",
       "    </tr>\n",
       "    <tr>\n",
       "      <th>775</th>\n",
       "      <td>1445</td>\n",
       "      <td>0.19</td>\n",
       "      <td>5.20</td>\n",
       "      <td>19.0</td>\n",
       "      <td>98.0</td>\n",
       "      <td>0.99713</td>\n",
       "      <td>8.16</td>\n",
       "      <td>0.52</td>\n",
       "      <td>9.6</td>\n",
       "      <td>0</td>\n",
       "      <td>0</td>\n",
       "      <td>14.8</td>\n",
       "      <td>7</td>\n",
       "      <td>1.68</td>\n",
       "      <td>1</td>\n",
       "      <td>0</td>\n",
       "      <td>0</td>\n",
       "      <td>1</td>\n",
       "      <td>0</td>\n",
       "    </tr>\n",
       "    <tr>\n",
       "      <th>776</th>\n",
       "      <td>1461</td>\n",
       "      <td>0.00</td>\n",
       "      <td>2.10</td>\n",
       "      <td>6.0</td>\n",
       "      <td>13.0</td>\n",
       "      <td>0.99664</td>\n",
       "      <td>8.59</td>\n",
       "      <td>0.61</td>\n",
       "      <td>10.0</td>\n",
       "      <td>0</td>\n",
       "      <td>0</td>\n",
       "      <td>12.4</td>\n",
       "      <td>7</td>\n",
       "      <td>1.38</td>\n",
       "      <td>1</td>\n",
       "      <td>0</td>\n",
       "      <td>0</td>\n",
       "      <td>1</td>\n",
       "      <td>0</td>\n",
       "    </tr>\n",
       "    <tr>\n",
       "      <th>777</th>\n",
       "      <td>1467</td>\n",
       "      <td>0.08</td>\n",
       "      <td>2.30</td>\n",
       "      <td>19.0</td>\n",
       "      <td>32.0</td>\n",
       "      <td>0.99648</td>\n",
       "      <td>8.52</td>\n",
       "      <td>0.57</td>\n",
       "      <td>11.0</td>\n",
       "      <td>0</td>\n",
       "      <td>0</td>\n",
       "      <td>13.4</td>\n",
       "      <td>7</td>\n",
       "      <td>1.63</td>\n",
       "      <td>0</td>\n",
       "      <td>0</td>\n",
       "      <td>0</td>\n",
       "      <td>0</td>\n",
       "      <td>1</td>\n",
       "    </tr>\n",
       "    <tr>\n",
       "      <th>778</th>\n",
       "      <td>1474</td>\n",
       "      <td>0.50</td>\n",
       "      <td>13.80</td>\n",
       "      <td>48.0</td>\n",
       "      <td>82.0</td>\n",
       "      <td>1.00242</td>\n",
       "      <td>8.16</td>\n",
       "      <td>0.75</td>\n",
       "      <td>8.8</td>\n",
       "      <td>0</td>\n",
       "      <td>0</td>\n",
       "      <td>19.8</td>\n",
       "      <td>7</td>\n",
       "      <td>1.90</td>\n",
       "      <td>1</td>\n",
       "      <td>0</td>\n",
       "      <td>1</td>\n",
       "      <td>0</td>\n",
       "      <td>0</td>\n",
       "    </tr>\n",
       "  </tbody>\n",
       "</table>\n",
       "<p>779 rows × 19 columns</p>\n",
       "</div>"
      ],
      "text/plain": [
       "       id  sugar to flour ratio  sugar index  chill time  calories  density  \\\n",
       "0      14                  0.62        19.25        41.0     172.0  1.00020   \n",
       "1      26                  0.35         1.00        35.0     146.0  0.99300   \n",
       "2      30                  0.39        10.40        20.0     142.0  0.99740   \n",
       "3      52                  0.33         1.10        21.0      82.0  0.99100   \n",
       "4     100                  0.37        13.50        52.0     192.0  0.99750   \n",
       "..    ...                   ...          ...         ...       ...      ...   \n",
       "774  1442                  0.02         1.90        18.0      30.0  0.99712   \n",
       "775  1445                  0.19         5.20        19.0      98.0  0.99713   \n",
       "776  1461                  0.00         2.10         6.0      13.0  0.99664   \n",
       "777  1467                  0.08         2.30        19.0      32.0  0.99648   \n",
       "778  1474                  0.50        13.80        48.0      82.0  1.00242   \n",
       "\n",
       "       pH  grams baking soda  bake time  quality  butter type  weight  \\\n",
       "0    7.98               0.67        9.7        0            1    16.6   \n",
       "1    8.45               0.44       10.0        0            1    13.8   \n",
       "2    8.20               0.53       10.0        0            1    17.0   \n",
       "3    8.32               0.46       10.9        0            1    12.4   \n",
       "4    8.00               0.44        9.1        0            1    14.8   \n",
       "..    ...                ...        ...      ...          ...     ...   \n",
       "774  8.40               0.75        9.8        0            0    13.8   \n",
       "775  8.16               0.52        9.6        0            0    14.8   \n",
       "776  8.59               0.61       10.0        0            0    12.4   \n",
       "777  8.52               0.57       11.0        0            0    13.4   \n",
       "778  8.16               0.75        8.8        0            0    19.8   \n",
       "\n",
       "     diameter  crunch factor  nuts  chocolate  raisins  oats  peanut butter  \n",
       "0           7           1.85     1          1        0     0              0  \n",
       "1           7           1.43     0          1        0     0              0  \n",
       "2           7           1.57     0          1        0     0              0  \n",
       "3           7           1.44     0          1        0     1              0  \n",
       "4           7           1.51     0          1        0     0              0  \n",
       "..        ...            ...   ...        ...      ...   ...            ...  \n",
       "774         7           1.01     1          1        0     1              0  \n",
       "775         7           1.68     1          0        0     1              0  \n",
       "776         7           1.38     1          0        0     1              0  \n",
       "777         7           1.63     0          0        0     0              1  \n",
       "778         7           1.90     1          0        1     0              0  \n",
       "\n",
       "[779 rows x 19 columns]"
      ]
     },
     "execution_count": 37,
     "metadata": {},
     "output_type": "execute_result"
    }
   ],
   "source": [
    "df_val"
   ]
  },
  {
   "cell_type": "code",
   "execution_count": 38,
   "metadata": {},
   "outputs": [],
   "source": [
    "df_val=df_val.drop('quality', axis=1)"
   ]
  },
  {
   "cell_type": "code",
   "execution_count": 39,
   "metadata": {},
   "outputs": [],
   "source": [
    "df_val = df_val.drop('id', axis=1)"
   ]
  },
  {
   "cell_type": "code",
   "execution_count": 40,
   "metadata": {},
   "outputs": [
    {
     "data": {
      "text/html": [
       "<div>\n",
       "<style scoped>\n",
       "    .dataframe tbody tr th:only-of-type {\n",
       "        vertical-align: middle;\n",
       "    }\n",
       "\n",
       "    .dataframe tbody tr th {\n",
       "        vertical-align: top;\n",
       "    }\n",
       "\n",
       "    .dataframe thead th {\n",
       "        text-align: right;\n",
       "    }\n",
       "</style>\n",
       "<table border=\"1\" class=\"dataframe\">\n",
       "  <thead>\n",
       "    <tr style=\"text-align: right;\">\n",
       "      <th></th>\n",
       "      <th>sugar to flour ratio</th>\n",
       "      <th>sugar index</th>\n",
       "      <th>chill time</th>\n",
       "      <th>calories</th>\n",
       "      <th>density</th>\n",
       "      <th>pH</th>\n",
       "      <th>grams baking soda</th>\n",
       "      <th>bake time</th>\n",
       "      <th>butter type</th>\n",
       "      <th>weight</th>\n",
       "      <th>diameter</th>\n",
       "      <th>crunch factor</th>\n",
       "      <th>nuts</th>\n",
       "      <th>chocolate</th>\n",
       "      <th>raisins</th>\n",
       "      <th>oats</th>\n",
       "      <th>peanut butter</th>\n",
       "    </tr>\n",
       "  </thead>\n",
       "  <tbody>\n",
       "    <tr>\n",
       "      <th>0</th>\n",
       "      <td>0.62</td>\n",
       "      <td>19.25</td>\n",
       "      <td>41.0</td>\n",
       "      <td>172.0</td>\n",
       "      <td>1.0002</td>\n",
       "      <td>7.98</td>\n",
       "      <td>0.67</td>\n",
       "      <td>9.7</td>\n",
       "      <td>1</td>\n",
       "      <td>16.6</td>\n",
       "      <td>7</td>\n",
       "      <td>1.85</td>\n",
       "      <td>1</td>\n",
       "      <td>1</td>\n",
       "      <td>0</td>\n",
       "      <td>0</td>\n",
       "      <td>0</td>\n",
       "    </tr>\n",
       "  </tbody>\n",
       "</table>\n",
       "</div>"
      ],
      "text/plain": [
       "   sugar to flour ratio  sugar index  chill time  calories  density    pH  \\\n",
       "0                  0.62        19.25        41.0     172.0   1.0002  7.98   \n",
       "\n",
       "   grams baking soda  bake time  butter type  weight  diameter  crunch factor  \\\n",
       "0               0.67        9.7            1    16.6         7           1.85   \n",
       "\n",
       "   nuts  chocolate  raisins  oats  peanut butter  \n",
       "0     1          1        0     0              0  "
      ]
     },
     "execution_count": 40,
     "metadata": {},
     "output_type": "execute_result"
    }
   ],
   "source": [
    "df_val.head(1)"
   ]
  },
  {
   "cell_type": "markdown",
   "metadata": {},
   "source": [
    "### Predictions"
   ]
  },
  {
   "cell_type": "code",
   "execution_count": 44,
   "metadata": {
    "scrolled": true
   },
   "outputs": [],
   "source": [
    "rfc_pred = rfc_search.predict(df_val)"
   ]
  },
  {
   "cell_type": "code",
   "execution_count": 45,
   "metadata": {},
   "outputs": [
    {
     "data": {
      "text/plain": [
       "array([7.642, 8.193, 7.628, 8.359, 7.424, 7.394, 7.863, 7.305, 7.655,\n",
       "       7.894, 7.638, 7.95 , 7.268, 7.789, 8.395, 7.593, 8.185, 7.687,\n",
       "       8.104, 8.091, 7.929, 8.405, 8.359, 7.424, 7.409, 6.609, 6.831,\n",
       "       7.331, 6.974, 7.252, 8.11 , 7.854, 7.439, 7.721, 7.981, 8.368,\n",
       "       9.187, 8.037, 6.765, 7.569, 8.001, 6.948, 8.102, 7.21 , 7.446,\n",
       "       7.524, 7.469, 8.132, 7.508, 7.934, 6.952, 7.53 , 7.552, 7.62 ,\n",
       "       7.908, 7.516, 7.356, 7.722, 8.213, 8.906, 7.668, 7.862, 6.931,\n",
       "       8.224, 8.037, 7.845, 7.523, 7.532, 7.422, 8.226, 8.068, 8.316,\n",
       "       7.116, 6.991, 8.124, 7.03 , 7.771, 7.767, 7.343, 7.827, 7.623,\n",
       "       8.066, 7.428, 8.924, 7.074, 8.34 , 8.285, 7.951, 7.776, 8.928,\n",
       "       7.743, 7.285, 8.19 , 7.971, 7.828, 7.713, 7.978, 8.128, 7.68 ,\n",
       "       7.207, 8.809, 7.867, 9.019, 8.511, 8.686, 7.842, 7.552, 7.313,\n",
       "       7.571, 8.761, 7.795, 7.037, 7.196, 7.482, 7.507, 6.951, 7.906,\n",
       "       7.902, 8.778, 7.334, 7.789, 7.59 , 6.84 , 7.672, 7.942, 7.747,\n",
       "       7.135, 8.013, 7.137, 8.272, 7.356, 8.4  , 7.154, 7.111, 7.161,\n",
       "       8.776, 7.108, 9.833, 8.171, 8.175, 7.977, 7.893, 7.396, 7.139,\n",
       "       7.711, 7.194, 7.022, 8.704, 8.188, 8.34 , 7.343, 7.841, 7.817,\n",
       "       7.307, 7.196, 7.807, 7.931, 7.08 , 8.417, 8.84 , 8.081, 7.488,\n",
       "       7.363, 8.566, 7.834, 7.114, 7.561, 7.728, 7.407, 8.207, 8.991,\n",
       "       7.969, 7.352, 7.484, 7.402, 8.082, 8.588, 7.879, 8.203, 8.158,\n",
       "       7.266, 7.152, 7.497, 7.124, 7.04 , 6.556, 7.626, 7.034, 7.004,\n",
       "       8.225, 7.642, 7.016, 8.422, 7.272, 8.221, 8.215, 7.056, 7.064,\n",
       "       8.85 , 8.153, 7.705, 8.756, 8.699, 7.096, 8.524, 7.671, 7.026,\n",
       "       7.48 , 7.35 , 8.021, 7.636, 7.256, 6.526, 7.914, 7.317, 7.533,\n",
       "       7.845, 7.999, 7.355, 7.433, 7.453, 7.203, 7.125, 7.799, 7.076,\n",
       "       7.103, 7.722, 7.17 , 7.804, 7.342, 7.215, 7.346, 6.595, 7.112,\n",
       "       7.428, 8.819, 8.966, 7.451, 8.487, 7.647, 7.716, 8.279, 7.396,\n",
       "       7.125, 7.447, 7.271, 7.566, 7.877, 7.716, 7.481, 7.484, 8.994,\n",
       "       6.757, 7.775, 7.462, 8.857, 7.419, 7.12 , 8.036, 7.079, 8.715,\n",
       "       7.152, 7.319, 8.702, 8.017, 7.646, 7.238, 7.259, 7.615, 7.99 ,\n",
       "       8.822, 7.202, 7.701, 7.039, 8.777, 7.359, 8.29 , 9.588, 7.858,\n",
       "       8.48 , 7.418, 8.023, 7.445, 7.697, 8.383, 8.001, 7.4  , 7.212,\n",
       "       8.84 , 7.144, 8.492, 8.625, 8.156, 8.081, 7.382, 8.859, 8.512,\n",
       "       7.765, 7.946, 7.485, 8.165, 7.984, 7.858, 7.461, 7.915, 8.783,\n",
       "       8.451, 8.636, 8.056, 8.17 , 8.546, 8.14 , 8.414, 7.63 , 8.395,\n",
       "       7.096, 7.374, 7.292, 8.046, 8.865, 7.828, 8.003, 7.966, 8.366,\n",
       "       7.751, 7.818, 8.428, 9.556, 7.202, 8.363, 7.081, 8.66 , 8.35 ,\n",
       "       7.389, 8.086, 8.485, 8.118, 8.084, 9.296, 8.144, 7.034, 7.375,\n",
       "       7.755, 8.532, 8.518, 7.893, 8.576, 7.357, 7.715, 7.752, 7.875,\n",
       "       7.22 , 7.618, 8.298, 8.029, 7.429, 8.19 , 7.586, 8.214, 8.33 ,\n",
       "       8.051, 8.323, 7.406, 8.726, 8.371, 8.067, 7.549, 7.395, 8.06 ,\n",
       "       7.291, 8.251, 8.601, 8.155, 7.854, 7.61 , 8.445, 7.973, 8.918,\n",
       "       9.239, 9.449, 8.116, 8.527, 7.245, 8.249, 8.601, 8.097, 8.178,\n",
       "       9.123, 8.615, 7.311, 8.532, 8.071, 8.09 , 8.892, 8.492, 8.553,\n",
       "       7.424, 7.394, 7.618, 8.381, 8.653, 6.905, 8.437, 8.838, 8.721,\n",
       "       8.168, 7.835, 7.547, 8.288, 7.989, 8.713, 8.462, 7.493, 8.036,\n",
       "       7.371, 7.791, 8.877, 7.259, 8.599, 8.623, 8.225, 8.45 , 9.522,\n",
       "       8.134, 8.302, 7.36 , 8.623, 7.743, 7.697, 8.676, 9.069, 7.065,\n",
       "       8.2  , 8.217, 8.88 , 7.736, 8.342, 7.935, 8.561, 7.835, 8.255,\n",
       "       9.033, 8.477, 8.457, 7.655, 8.723, 8.279, 7.162, 8.585, 8.652,\n",
       "       8.011, 7.885, 7.973, 7.958, 7.863, 8.128, 7.878, 7.773, 7.843,\n",
       "       7.862, 8.834, 8.174, 8.98 , 8.469, 8.084, 7.721, 8.067, 7.75 ,\n",
       "       7.348, 7.439, 8.54 , 8.258, 9.507, 7.027, 7.114, 7.959, 8.018,\n",
       "       7.089, 8.383, 9.026, 8.252, 8.162, 7.377, 7.13 , 7.169, 8.597,\n",
       "       8.466, 7.408, 8.957, 8.386, 7.41 , 8.107, 7.471, 9.628, 8.013,\n",
       "       8.418, 8.337, 8.414, 7.145, 7.516, 6.936, 6.961, 7.149, 7.98 ,\n",
       "       8.641, 7.664, 7.96 , 8.367, 8.88 , 8.903, 8.34 , 9.047, 7.299,\n",
       "       7.358, 8.284, 7.889, 7.975, 8.337, 7.362, 8.454, 7.905, 8.148,\n",
       "       6.846, 8.101, 9.012, 9.068, 8.325, 8.394, 7.446, 8.783, 7.649,\n",
       "       7.192, 9.067, 8.178, 8.245, 7.846, 8.056, 8.455, 8.108, 8.447,\n",
       "       7.714, 8.862, 8.02 , 7.908, 8.258, 7.29 , 7.291, 7.946, 8.082,\n",
       "       8.922, 7.788, 7.922, 8.05 , 7.917, 8.03 , 7.521, 7.959, 7.796,\n",
       "       7.213, 8.119, 8.655, 8.393, 8.615, 7.641, 7.365, 7.229, 7.191,\n",
       "       7.108, 8.098, 7.031, 7.008, 8.998, 9.002, 7.867, 7.186, 8.304,\n",
       "       7.825, 7.438, 7.448, 8.383, 7.037, 6.418, 8.543, 8.411, 7.725,\n",
       "       8.862, 8.109, 7.3  , 8.167, 7.802, 8.477, 8.362, 8.488, 8.631,\n",
       "       7.361, 7.379, 7.934, 7.723, 8.315, 8.261, 8.92 , 8.95 , 8.3  ,\n",
       "       9.997, 7.602, 8.159, 7.205, 7.289, 7.251, 8.109, 7.92 , 8.085,\n",
       "       8.386, 8.222, 7.89 , 7.407, 7.165, 7.215, 7.893, 7.809, 7.845,\n",
       "       7.848, 7.705, 8.384, 7.202, 8.077, 7.36 , 7.361, 7.362, 8.426,\n",
       "       8.236, 8.535, 6.914, 7.19 , 8.355, 7.198, 8.234, 7.117, 8.156,\n",
       "       8.248, 7.537, 7.828, 8.401, 8.086, 7.762, 8.601, 8.53 , 8.361,\n",
       "       8.985, 8.275, 9.27 , 7.013, 8.673, 8.361, 8.35 , 8.628, 6.943,\n",
       "       8.602, 8.646, 8.637, 8.733, 7.764, 7.574, 7.747, 7.993, 8.014,\n",
       "       6.818, 8.467, 8.136, 7.033, 8.111, 7.878, 8.025, 7.792, 8.176,\n",
       "       8.347, 8.165, 8.867, 7.958, 8.398, 7.803, 8.275, 7.765, 7.744,\n",
       "       8.472, 8.384, 8.29 , 7.184, 7.703, 7.701, 7.703, 8.661, 8.018,\n",
       "       7.197, 8.633, 7.567, 7.173, 8.588, 8.557, 6.592, 7.636, 8.213,\n",
       "       7.739, 8.883, 8.422, 8.793, 5.016, 5.433, 5.302, 5.572, 5.448,\n",
       "       5.109, 5.234, 5.085, 5.352, 5.841, 5.525, 5.158, 6.389, 5.813,\n",
       "       5.068, 5.703, 6.599, 6.551, 5.184, 6.067, 6.754, 5.377, 5.864,\n",
       "       5.146, 5.511, 6.055, 6.594, 5.657, 6.417, 5.465, 5.783, 5.144,\n",
       "       5.828, 5.094, 5.54 , 5.027, 5.938, 6.423, 6.122, 5.468, 5.048,\n",
       "       6.467, 6.107, 6.623, 6.941, 5.702, 6.569, 6.791, 5.059, 6.197,\n",
       "       5.148, 5.914, 5.344, 5.986, 6.364, 6.131, 6.761, 6.493, 5.425,\n",
       "       5.496, 5.963, 5.939, 5.756, 5.167, 6.702, 5.211, 5.601, 4.676,\n",
       "       5.148, 5.024, 4.829, 4.875, 5.373])"
      ]
     },
     "execution_count": 45,
     "metadata": {},
     "output_type": "execute_result"
    }
   ],
   "source": [
    "rfc_pred"
   ]
  },
  {
   "cell_type": "code",
   "execution_count": 46,
   "metadata": {},
   "outputs": [],
   "source": [
    "rfc_pred = pd.DataFrame({'results':rfc_pred})"
   ]
  },
  {
   "cell_type": "code",
   "execution_count": 48,
   "metadata": {},
   "outputs": [],
   "source": [
    "rfc_pred.to_csv('../Data/RandonForestResults.csv')"
   ]
  },
  {
   "cell_type": "code",
   "execution_count": 50,
   "metadata": {},
   "outputs": [
    {
     "data": {
      "text/html": [
       "<div>\n",
       "<style scoped>\n",
       "    .dataframe tbody tr th:only-of-type {\n",
       "        vertical-align: middle;\n",
       "    }\n",
       "\n",
       "    .dataframe tbody tr th {\n",
       "        vertical-align: top;\n",
       "    }\n",
       "\n",
       "    .dataframe thead th {\n",
       "        text-align: right;\n",
       "    }\n",
       "</style>\n",
       "<table border=\"1\" class=\"dataframe\">\n",
       "  <thead>\n",
       "    <tr style=\"text-align: right;\">\n",
       "      <th></th>\n",
       "      <th>results</th>\n",
       "    </tr>\n",
       "  </thead>\n",
       "  <tbody>\n",
       "    <tr>\n",
       "      <th>0</th>\n",
       "      <td>7.642</td>\n",
       "    </tr>\n",
       "    <tr>\n",
       "      <th>1</th>\n",
       "      <td>8.193</td>\n",
       "    </tr>\n",
       "    <tr>\n",
       "      <th>2</th>\n",
       "      <td>7.628</td>\n",
       "    </tr>\n",
       "    <tr>\n",
       "      <th>3</th>\n",
       "      <td>8.359</td>\n",
       "    </tr>\n",
       "    <tr>\n",
       "      <th>4</th>\n",
       "      <td>7.424</td>\n",
       "    </tr>\n",
       "    <tr>\n",
       "      <th>...</th>\n",
       "      <td>...</td>\n",
       "    </tr>\n",
       "    <tr>\n",
       "      <th>774</th>\n",
       "      <td>5.148</td>\n",
       "    </tr>\n",
       "    <tr>\n",
       "      <th>775</th>\n",
       "      <td>5.024</td>\n",
       "    </tr>\n",
       "    <tr>\n",
       "      <th>776</th>\n",
       "      <td>4.829</td>\n",
       "    </tr>\n",
       "    <tr>\n",
       "      <th>777</th>\n",
       "      <td>4.875</td>\n",
       "    </tr>\n",
       "    <tr>\n",
       "      <th>778</th>\n",
       "      <td>5.373</td>\n",
       "    </tr>\n",
       "  </tbody>\n",
       "</table>\n",
       "<p>779 rows × 1 columns</p>\n",
       "</div>"
      ],
      "text/plain": [
       "     results\n",
       "0      7.642\n",
       "1      8.193\n",
       "2      7.628\n",
       "3      8.359\n",
       "4      7.424\n",
       "..       ...\n",
       "774    5.148\n",
       "775    5.024\n",
       "776    4.829\n",
       "777    4.875\n",
       "778    5.373\n",
       "\n",
       "[779 rows x 1 columns]"
      ]
     },
     "execution_count": 50,
     "metadata": {},
     "output_type": "execute_result"
    }
   ],
   "source": [
    "rfc_pred"
   ]
  },
  {
   "cell_type": "code",
   "execution_count": null,
   "metadata": {},
   "outputs": [],
   "source": []
  }
 ],
 "metadata": {
  "kernelspec": {
   "display_name": "Python 3",
   "language": "python",
   "name": "python3"
  },
  "language_info": {
   "codemirror_mode": {
    "name": "ipython",
    "version": 3
   },
   "file_extension": ".py",
   "mimetype": "text/x-python",
   "name": "python",
   "nbconvert_exporter": "python",
   "pygments_lexer": "ipython3",
   "version": "3.7.6"
  }
 },
 "nbformat": 4,
 "nbformat_minor": 4
}
